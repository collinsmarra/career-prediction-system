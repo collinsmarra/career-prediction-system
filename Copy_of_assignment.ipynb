{
  "nbformat": 4,
  "nbformat_minor": 0,
  "metadata": {
    "colab": {
      "name": "Copy of Welcome To Colaboratory",
      "provenance": [],
      "collapsed_sections": [],
      "include_colab_link": true
    },
    "kernelspec": {
      "display_name": "Python 3",
      "name": "python3"
    }
  },
  "cells": [
    {
      "cell_type": "markdown",
      "metadata": {
        "id": "view-in-github",
        "colab_type": "text"
      },
      "source": [
        "<a href=\"https://colab.research.google.com/github/collinsmarra/career-prediction-system/blob/main/Copy_of_assignment.ipynb\" target=\"_parent\"><img src=\"https://colab.research.google.com/assets/colab-badge.svg\" alt=\"Open In Colab\"/></a>"
      ]
    },
    {
      "cell_type": "code",
      "metadata": {
        "id": "tEQxgCPhKsJ9"
      },
      "source": [
        "import pandas as pd\n",
        "import numpy as np\n",
        "import matplotlib.pyplot as plt\n",
        "from sklearn import datasets, linear_model\n",
        "from sklearn.metrics import accuracy_score"
      ],
      "execution_count": 6,
      "outputs": []
    },
    {
      "cell_type": "code",
      "metadata": {
        "id": "NffVWuq9LRFX"
      },
      "source": [
        "class Trainer:\n",
        "\tdef __init__(self, train, test, output):\n",
        "\t\tself.train = train\n",
        "\t\tself.test = test\n",
        "\t\tself.output = output\n",
        "\n",
        "\tdef trainer(self):\n",
        "\t\tdata = pd.read_csv(self.train)\n",
        "\t\tarray = data.values\n",
        "\n",
        "\t\tfor i in range(len(array)):\n",
        "\t\t\tif array[i][1] == \"Male\":\n",
        "\t\t\t\tarray[i][1] = 1\n",
        "\t\t\telse:\n",
        "\t\t\t\tarray[i][1] = 0\n",
        "\t\t\tif array[i][2] == \"Nilotes\":\n",
        "\t\t\t\tarray[i][2] = 0\n",
        "\t\t\telif array[i][2] == \"Bantus\":\n",
        "\t\t\t\tarray[i][2] = 1\n",
        "\t\t\telse:\n",
        "\t\t\t\tarray[i][2] = 2\n",
        "\t\t\tif array[i][3] == \"Highlands\":\n",
        "\t\t\t\tarray[i][3] = 0\n",
        "\t\t\telse:\n",
        "\t\t\t\tarray[i][3] = 1\n",
        "\t\t\tif array[i][4] == \"Maize\":\n",
        "\t\t\t\tarray[i][4] = 0\n",
        "\t\t\telif array[i][4] == \"Meat and Milk\":\n",
        "\t\t\t\tarray[i][4] = 1\n",
        "\t\t\telif array[i][4] == \"Bananas\":\n",
        "\t\t\t\tarray[i][4] = 2\n",
        "\t\t\telif array[i][4] == \"Fish\":\n",
        "\t\t\t\tarray[i][4] = 3\n",
        "\t\t\telse:\n",
        "\t\t\t\tarray[i][4] = 4\n",
        "\n",
        "\t\tdf = pd.DataFrame(array)\n",
        "\t\tmaindf = df[[1,2,3,4]]\n",
        "\t\tmainarray = maindf.values\n",
        "\t\ttempdf = df[5]\n",
        "\n",
        "\t\ttrain_y = tempdf.values\n",
        "\t\tfor i in range(len(train_y)):\n",
        "\t\t\ttrain_y[i] = str(train_y[i])\n",
        "\t\tself.learn = linear_model.LogisticRegression(multi_class='multinomial', solver='newton-cg',max_iter=1000)\n",
        "\t\tself.learn.fit(mainarray, train_y)\n",
        "\t\tprint(self.learn.fit(mainarray, train_y))\n",
        "\t\tprint(\"Train \\n \\t200 OK\")\n",
        "\n",
        "\tdef tester(self):\n",
        "\t\ttestdata = pd.read_csv(self.test)\n",
        "\t\ttester_array = testdata.values\n",
        "\n",
        "\t\tfor i in range(len(tester_array)):\n",
        "\t\t\tif tester_array[i][1] == \"Male\":\n",
        "\t\t\t\ttester_array[i][1] = 1\n",
        "\t\t\ttester_array[i][1] = 0\n",
        "\t\t\tif tester_array[i][2] == \"Nilotes\":\n",
        "\t\t\t\ttester_array[i][2] = 0\n",
        "\t\t\telif tester_array[i][2] == \"Bantus\":\n",
        "\t\t\t\ttester_array[i][2] = 1\n",
        "\t\t\ttester_array[i][2] = 2\n",
        "\t\t\tif tester_array[i][3] == \"Highlands\":\n",
        "\t\t\t\ttester_array[i][3] = 0\n",
        "\t\t\ttester_array[i][3] = 1\n",
        "\t\t\tif tester_array[i][4] == \"Maize\":\n",
        "\t\t\t\ttester_array[i][4] = 0\n",
        "\t\t\telif tester_array[i][4] == \"Meat and Milk\":\n",
        "\t\t\t\ttester_array[i][4] = 1\n",
        "\t\t\telif tester_array[i][4] == \"Bananas\":\n",
        "\t\t\t\ttester_array[i][4] = 2\n",
        "\t\t\telif tester_array[i][4] == \"Fish\":\n",
        "\t\t\t\ttester_array[i][4] = 3\n",
        "\t\t\telse:\n",
        "\t\t\t\ttester_array[i][4] = 4\n",
        "\n",
        "\n",
        "\t\tdft = pd.DataFrame(tester_array)\n",
        "\t\ttestdf = dft[[1,2,3,4]]\n",
        "\t\tmaintestarray = testdf.values\n",
        "\t\tself.x_predict = self.learn.predict(maintestarray)\n",
        "\t\tfor i in range(len(self.x_predict)):\n",
        "\t\t\tself.x_predict[i] = str(self.x_predict[i])\n",
        "\t\tprint(\"Test \\n \\t200 OK\")\n",
        "\n",
        "\tdef back_to_df(self):\n",
        "\t\tself.bdf = pd.DataFrame(self.x_predict, columns=['Predicted Height'])\n",
        "\t\tself.bdf.index = self.bdf.index\n",
        "\t\tself.bdf.to_csv('output/heights.csv', index=False)\n",
        "\n",
        "\tdef combine_data(self):\n",
        "\t\tmain = pd.read_csv(self.test)\n",
        "\t\tdataframe = pd.DataFrame(main)\n",
        "\t\tdataframe2 = self.bdf\n",
        "\t\tconcat = pd.concat([dataframe,dataframe2], axis=1).reindex(dataframe.index)\n",
        "\t\tconcat.to_csv(self.output, index=False)\n",
        "\t\tprint(\" \\033[92m Done successfully\")"
      ],
      "execution_count": 7,
      "outputs": []
    },
    {
      "cell_type": "code",
      "metadata": {
        "colab": {
          "base_uri": "https://localhost:8080/",
          "height": 35
        },
        "id": "YC_RZYK1Ledi",
        "outputId": "23c3af66-441f-468b-a0ec-b2e9b045c55d"
      },
      "source": [
        "train = Trainer\n",
        "train.__name__"
      ],
      "execution_count": 8,
      "outputs": [
        {
          "output_type": "execute_result",
          "data": {
            "application/vnd.google.colaboratory.intrinsic+json": {
              "type": "string"
            },
            "text/plain": [
              "'Trainer'"
            ]
          },
          "metadata": {
            "tags": []
          },
          "execution_count": 8
        }
      ]
    },
    {
      "cell_type": "code",
      "metadata": {
        "id": "kItXPNa-M1fs"
      },
      "source": [
        "from google.colab import drive\n",
        "drive.mount('/content/drive')"
      ],
      "execution_count": null,
      "outputs": []
    }
  ]
}