{
  "nbformat": 4,
  "nbformat_minor": 0,
  "metadata": {
    "colab": {
      "name": "backup.ipynb",
      "provenance": [],
      "collapsed_sections": [],
      "authorship_tag": "ABX9TyOOBnwAaWaibVvmOjVsZSRk",
      "include_colab_link": true
    },
    "kernelspec": {
      "name": "python3",
      "display_name": "Python 3"
    },
    "language_info": {
      "name": "python"
    }
  },
  "cells": [
    {
      "cell_type": "markdown",
      "metadata": {
        "id": "view-in-github",
        "colab_type": "text"
      },
      "source": [
        "<a href=\"https://colab.research.google.com/github/collinsmarra/prediction-sstuff/blob/main/backup.ipynb\" target=\"_parent\"><img src=\"https://colab.research.google.com/assets/colab-badge.svg\" alt=\"Open In Colab\"/></a>"
      ]
    },
    {
      "cell_type": "code",
      "metadata": {
        "id": "IOMZt2D088_i"
      },
      "source": [
        "import pandas as pd\n",
        "import numpy as np\n",
        "from sklearn import datasets, linear_model\n",
        "from sklearn.metrics import accuracy_score\n",
        "import matplotlib.pyplot as plt\n"
      ],
      "execution_count": 33,
      "outputs": []
    },
    {
      "cell_type": "code",
      "metadata": {
        "id": "iUw-1ws59sH0"
      },
      "source": [
        "class GenerateData:\n",
        "    \n",
        "    def months(self):\n",
        "        high = 12\n",
        "        low = 1\n",
        "        df = pd.DataFrame(np.random.randint(low, high, size=(100, 1)), columns=[\"Month\"])\n",
        "        df.to_csv(\"months.csv\", index=False)\n",
        "        return True\n",
        "    \n",
        "    def rooms(self):\n",
        "        high = 5\n",
        "        low = 1\n",
        "        df = pd.DataFrame(np.random.randint(low, high, size=(100, 1)), columns=[\"Rooms\"])\n",
        "        df.to_csv(\"rooms.csv\", index=False)\n",
        "        return True\n",
        "    \n",
        "    def location(self):\n",
        "        ddd = {\"Nairobi\":1, \"Mombasa\":2, \"Eldoret\":3, \"Nakuru\":4, \"Kisumu\":5}\n",
        "        df = pd.DataFrame(np.random.choice(list(ddd.values()),size=100),columns=['Location'])\n",
        "        df.to_csv(\"location.csv\", index=False)\n",
        "        return True\n",
        "    \n",
        "    def security(self):\n",
        "        ccc = [1, 0]\n",
        "        df = pd.DataFrame(np.random.choice(ccc, size=100),columns=['Security'])\n",
        "        df.to_csv(\"security.csv\", index=False)\n",
        "        return True\n",
        "    \"\"\"\n",
        "    def price(self):\n",
        "        price = [5000, 6000, 7000, 8000,9000, 10000]\n",
        "        df = pd.DataFrame(np.random.choice(price, size=1000),columns=['Price'])\n",
        "        df.to_csv(\"price.csv\", index=False)\n",
        "        return True\"\"\""
      ],
      "execution_count": 34,
      "outputs": []
    },
    {
      "cell_type": "code",
      "metadata": {
        "colab": {
          "base_uri": "https://localhost:8080/"
        },
        "id": "G2HAkYaoWFjC",
        "outputId": "c042fdac-411a-4b92-a564-acc2d72b2600"
      },
      "source": [
        "gg = GenerateData()\n",
        "gg.months()\n",
        "gg.rooms()\n",
        "gg.location()\n",
        "gg.security()\n",
        "#gg.price()"
      ],
      "execution_count": 29,
      "outputs": [
        {
          "output_type": "execute_result",
          "data": {
            "text/plain": [
              "True"
            ]
          },
          "metadata": {
            "tags": []
          },
          "execution_count": 29
        }
      ]
    },
    {
      "cell_type": "code",
      "metadata": {
        "colab": {
          "base_uri": "https://localhost:8080/"
        },
        "id": "ytgDej-QWG1x",
        "outputId": "f0cf737e-515a-4a23-cfd5-185ccd233e1f"
      },
      "source": [
        "months = pd.read_csv(\"months.csv\")\n",
        "rooms = pd.read_csv(\"rooms.csv\")\n",
        "location = pd.read_csv(\"location.csv\")\n",
        "security = pd.read_csv(\"security.csv\")\n",
        "price = pd.read_csv(\"price.csv\")\n",
        "\n",
        "dfmonths = pd.DataFrame(months)\n",
        "dfrooms = pd.DataFrame(rooms)\n",
        "dflocation = pd.DataFrame(location)\n",
        "dfsecurity = pd.DataFrame(security)\n",
        "dfprice = pd.DataFrame(price)\n",
        "\n",
        "concat = pd.concat([dfmonths, dfrooms, dflocation, dfsecurity, dfprice], axis=1).reindex(dfmonths.index)\n",
        "concat.to_csv(\"price_train.csv\", index=False)\n",
        "print(True)\n"
      ],
      "execution_count": 27,
      "outputs": [
        {
          "output_type": "stream",
          "text": [
            "True\n"
          ],
          "name": "stdout"
        }
      ]
    },
    {
      "cell_type": "code",
      "metadata": {
        "colab": {
          "base_uri": "https://localhost:8080/"
        },
        "id": "MwvFADd2aQ95",
        "outputId": "f343fdcc-4e97-4aa4-d13e-4fae9afb25c8"
      },
      "source": [
        "months = pd.read_csv(\"months.csv\")\n",
        "rooms = pd.read_csv(\"rooms.csv\")\n",
        "location = pd.read_csv(\"location.csv\")\n",
        "security = pd.read_csv(\"security.csv\")\n",
        "#price = pd.read_csv(\"price.csv\")\n",
        "\n",
        "dfmonths = pd.DataFrame(months)\n",
        "dfrooms = pd.DataFrame(rooms)\n",
        "dflocation = pd.DataFrame(location)\n",
        "dfsecurity = pd.DataFrame(security)\n",
        "#dfprice = pd.DataFrame(price)\n",
        "\n",
        "concat = pd.concat([dfmonths, dfrooms, dflocation, dfsecurity], axis=1).reindex(dfmonths.index)\n",
        "concat.to_csv(\"price_test.csv\", index=False)\n",
        "print(True)\n"
      ],
      "execution_count": 30,
      "outputs": [
        {
          "output_type": "stream",
          "text": [
            "True\n"
          ],
          "name": "stdout"
        }
      ]
    },
    {
      "cell_type": "code",
      "metadata": {
        "id": "iLOHMVDaWHkH"
      },
      "source": [
        "class Train:\n",
        "    def __init__(self, train, test, output):\n",
        "        self.train = train\n",
        "        self.test = test\n",
        "        self.output = output\n",
        "    \n",
        "    def trainer(self):\n",
        "        data = pd.read_csv(self.train)\n",
        "        array = data.values\n",
        "        df = pd.DataFrame(array)\n",
        "        maindf = df[[0,1,2,3]]\n",
        "        mainarray = maindf.values\n",
        "        tempdf = df[4]\n",
        "        \n",
        "        train_y = tempdf.values\n",
        "        for i in range(len(train_y)):\n",
        "            train_y[i] = str(train_y[i])\n",
        "        self.learn = linear_model.LogisticRegression(multi_class='multinomial', solver='newton-cg',max_iter=1000)\n",
        "        self.learn.fit(mainarray, train_y)\n",
        "        print(self.learn.fit(mainarray, train_y))\n",
        "        print(\"Train \\n \\t200 OK\")\n",
        "  \n",
        "    def tester(self):\n",
        "        testdata = pd.read_csv(self.test)\n",
        "        tester_array = testdata.values\n",
        "        dft = pd.DataFrame(tester_array)\n",
        "        testdf = dft[[0,1,2,3]]\n",
        "        maintestarray = testdf.values\n",
        "        self.x_predict = self.learn.predict(maintestarray)\n",
        "        for i in range(len(self.x_predict)):\n",
        "            self.x_predict[i] = str(self.x_predict[i])\n",
        "        print(\"Test \\n \\t200 OK\")\n",
        "    \n",
        "    def back_to_df(self):\n",
        "        self.bdf = pd.DataFrame(self.x_predict, columns=['Predicted price'])\n",
        "        self.bdf.index = self.bdf.index\n",
        "        self.bdf.to_csv(self.output, index=False)\n",
        "    def combine_data(self):\n",
        "        main = pd.read_csv(self.test)\n",
        "        dataframe = pd.DataFrame(main)\n",
        "        dataframe2 = self.bdf\n",
        "        concat = pd.concat([dataframe,dataframe2], axis=1).reindex(dataframe.index)\n",
        "        concat.to_csv(self.output, index=False)\n",
        "        print(\" \\033[92m Done successfully\")"
      ],
      "execution_count": 40,
      "outputs": []
    },
    {
      "cell_type": "code",
      "metadata": {
        "colab": {
          "base_uri": "https://localhost:8080/"
        },
        "id": "ZGju_sm1WICf",
        "outputId": "09ceaa80-7edc-40f4-b0b0-e70373660909"
      },
      "source": [
        "data=\"/content/price_train.csv\"\n",
        "test =\"/content/price_test.csv\"\n",
        "output = \"output2.csv\"\n",
        "\n",
        "train = Train(data, test, output)\n",
        "train.trainer()\n",
        "train.tester()\n",
        "train.back_to_df()\n",
        "train.combine_data()"
      ],
      "execution_count": 32,
      "outputs": [
        {
          "output_type": "stream",
          "text": [
            "LogisticRegression(C=1.0, class_weight=None, dual=False, fit_intercept=True,\n",
            "                   intercept_scaling=1, l1_ratio=None, max_iter=1000,\n",
            "                   multi_class='multinomial', n_jobs=None, penalty='l2',\n",
            "                   random_state=None, solver='newton-cg', tol=0.0001, verbose=0,\n",
            "                   warm_start=False)\n",
            "Train \n",
            " \t200 OK\n",
            "Test \n",
            " \t200 OK\n",
            " \u001b[92m Done successfully\n"
          ],
          "name": "stdout"
        }
      ]
    },
    {
      "cell_type": "code",
      "metadata": {
        "colab": {
          "base_uri": "https://localhost:8080/",
          "height": 265
        },
        "id": "o9IUP7GsbDhe",
        "outputId": "2aa5fbdf-1818-4e1c-8330-b0a3f5890372"
      },
      "source": [
        "pppp = pd.read_csv(\"/content/output2.csv\")\n",
        "pppp.plot()\n",
        "plt.show()"
      ],
      "execution_count": 41,
      "outputs": [
        {
          "output_type": "display_data",
          "data": {
            "image/png": "[encoded data removed]",
            "text/plain": [
              "<Figure size 432x288 with 1 Axes>"
            ]
          },
          "metadata": {
            "tags": [],
            "needs_background": "light"
          }
        }
      ]
    },
    {
      "cell_type": "code",
      "metadata": {
        "colab": {
          "base_uri": "https://localhost:8080/",
          "height": 297
        },
        "id": "bk0LXyyRdDTM",
        "outputId": "c1e88a21-c0a2-4898-a579-1693ddcc3b67"
      },
      "source": [
        "hggg = pd.read_csv(\"/content/output2.csv\")\n",
        "hggg.describe()"
      ],
      "execution_count": 39,
      "outputs": [
        {
          "output_type": "execute_result",
          "data": {
            "text/html": [
              "<div>\n",
              "<style scoped>\n",
              "    .dataframe tbody tr th:only-of-type {\n",
              "        vertical-align: middle;\n",
              "    }\n",
              "\n",
              "    .dataframe tbody tr th {\n",
              "        vertical-align: top;\n",
              "    }\n",
              "\n",
              "    .dataframe thead th {\n",
              "        text-align: right;\n",
              "    }\n",
              "</style>\n",
              "<table border=\"1\" class=\"dataframe\">\n",
              "  <thead>\n",
              "    <tr style=\"text-align: right;\">\n",
              "      <th></th>\n",
              "      <th>Month</th>\n",
              "      <th>Rooms</th>\n",
              "      <th>Location</th>\n",
              "      <th>Security</th>\n",
              "      <th>Predictes BMI</th>\n",
              "    </tr>\n",
              "  </thead>\n",
              "  <tbody>\n",
              "    <tr>\n",
              "      <th>count</th>\n",
              "      <td>100.000000</td>\n",
              "      <td>100.000000</td>\n",
              "      <td>100.000000</td>\n",
              "      <td>100.00000</td>\n",
              "      <td>100.00000</td>\n",
              "    </tr>\n",
              "    <tr>\n",
              "      <th>mean</th>\n",
              "      <td>6.340000</td>\n",
              "      <td>2.440000</td>\n",
              "      <td>2.930000</td>\n",
              "      <td>0.43000</td>\n",
              "      <td>7190.00000</td>\n",
              "    </tr>\n",
              "    <tr>\n",
              "      <th>std</th>\n",
              "      <td>3.002423</td>\n",
              "      <td>1.157496</td>\n",
              "      <td>1.335264</td>\n",
              "      <td>0.49757</td>\n",
              "      <td>1703.79849</td>\n",
              "    </tr>\n",
              "    <tr>\n",
              "      <th>min</th>\n",
              "      <td>1.000000</td>\n",
              "      <td>1.000000</td>\n",
              "      <td>1.000000</td>\n",
              "      <td>0.00000</td>\n",
              "      <td>5000.00000</td>\n",
              "    </tr>\n",
              "    <tr>\n",
              "      <th>25%</th>\n",
              "      <td>4.000000</td>\n",
              "      <td>1.000000</td>\n",
              "      <td>2.000000</td>\n",
              "      <td>0.00000</td>\n",
              "      <td>6000.00000</td>\n",
              "    </tr>\n",
              "    <tr>\n",
              "      <th>50%</th>\n",
              "      <td>7.000000</td>\n",
              "      <td>2.500000</td>\n",
              "      <td>3.000000</td>\n",
              "      <td>0.00000</td>\n",
              "      <td>6000.00000</td>\n",
              "    </tr>\n",
              "    <tr>\n",
              "      <th>75%</th>\n",
              "      <td>9.000000</td>\n",
              "      <td>3.000000</td>\n",
              "      <td>4.000000</td>\n",
              "      <td>1.00000</td>\n",
              "      <td>9000.00000</td>\n",
              "    </tr>\n",
              "    <tr>\n",
              "      <th>max</th>\n",
              "      <td>11.000000</td>\n",
              "      <td>4.000000</td>\n",
              "      <td>5.000000</td>\n",
              "      <td>1.00000</td>\n",
              "      <td>10000.00000</td>\n",
              "    </tr>\n",
              "  </tbody>\n",
              "</table>\n",
              "</div>"
            ],
            "text/plain": [
              "            Month       Rooms    Location   Security  Predictes BMI\n",
              "count  100.000000  100.000000  100.000000  100.00000      100.00000\n",
              "mean     6.340000    2.440000    2.930000    0.43000     7190.00000\n",
              "std      3.002423    1.157496    1.335264    0.49757     1703.79849\n",
              "min      1.000000    1.000000    1.000000    0.00000     5000.00000\n",
              "25%      4.000000    1.000000    2.000000    0.00000     6000.00000\n",
              "50%      7.000000    2.500000    3.000000    0.00000     6000.00000\n",
              "75%      9.000000    3.000000    4.000000    1.00000     9000.00000\n",
              "max     11.000000    4.000000    5.000000    1.00000    10000.00000"
            ]
          },
          "metadata": {
            "tags": []
          },
          "execution_count": 39
        }
      ]
    }
  ]
}