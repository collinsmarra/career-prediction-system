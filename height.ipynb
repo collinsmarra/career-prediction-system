{
  "nbformat": 4,
  "nbformat_minor": 0,
  "metadata": {
    "colab": {
      "name": "height.ipynb",
      "provenance": [],
      "collapsed_sections": [],
      "authorship_tag": "ABX9TyNlhiuPIEU08JUDZnTnfcdi",
      "include_colab_link": true
    },
    "kernelspec": {
      "display_name": "Python 3",
      "name": "python3"
    },
    "language_info": {
      "name": "python"
    }
  },
  "cells": [
    {
      "cell_type": "markdown",
      "metadata": {
        "id": "view-in-github",
        "colab_type": "text"
      },
      "source": [
        "<a href=\"https://colab.research.google.com/github/collinsmarra/prediction-sstuff/blob/main/height.ipynb\" target=\"_parent\"><img src=\"https://colab.research.google.com/assets/colab-badge.svg\" alt=\"Open In Colab\"/></a>"
      ]
    },
    {
      "cell_type": "code",
      "metadata": {
        "id": "dmNTG3wKiWlX"
      },
      "source": [
        "import pandas as pd\n",
        "import numpy as np\n",
        "import matplotlib.pyplot as plt\n",
        "\n",
        "from sklearn import datasets, linear_model"
      ],
      "execution_count": 2,
      "outputs": []
    },
    {
      "cell_type": "code",
      "metadata": {
        "id": "5Dm6ACPqif8C"
      },
      "source": [
        "class GenerateData:\n",
        "    def height(self):\n",
        "        high = 220\n",
        "        low = 140\n",
        "        df = pd.DataFrame(np.random.randint(low, high,size=(1000 , 1)), columns=[\"height\" ])\n",
        "        df.to_csv(\"height.csv\", index=False)\n",
        "        return True\n",
        "    def age(self):\n",
        "        high = 23\n",
        "        low = 15\n",
        "        df = pd.DataFrame(np.random.randint(low, high, size=(1000 , 1)), columns=[\"Age\"])\n",
        "        df.to_csv(\"age.csv\", index=False)\n",
        "        return True\n",
        "    def gender(self):\n",
        "        gender =[1, 0]\n",
        "        df = pd.DataFrame(np.random.choice(gender, size=1000),columns=['Gender'])\n",
        "        df.to_csv(\"gender.csv\", index=False)\n",
        "        return True\n",
        "    def foods(self):\n",
        "        food_list ={\"Maize\":1, \"Meat\":2, \"Fish\":3, \"Potatoes\":4, \"Rice\":5}\n",
        "        df = pd.DataFrame(np.random.choice(list(food_list.values()), size=1000),columns=['Food'])\n",
        "        df.to_csv(\"foods.csv\", index=False)\n",
        "        return True\n",
        "    def geolocation(self):\n",
        "        geo_list =[1, 0]\n",
        "        df = pd.DataFrame(np.random.choice(geo_list, size=1000),columns=['Geolocation'])\n",
        "        df.to_csv(\"geolocation.csv\", index=False)\n",
        "        return True\n",
        "    \n",
        "    def origin(name: str):\n",
        "        origins = {\"Nilotes\":2, \"Bantus\":3, \"Cushites\":3}\n",
        "        df = pd.DataFrame(np.random.choice(list(origins.values()), size=1000),columns=['Origin'])\n",
        "        df.to_csv(\"origins.csv\", index=False)\n",
        "        return True"
      ],
      "execution_count": 3,
      "outputs": []
    },
    {
      "cell_type": "code",
      "metadata": {
        "colab": {
          "base_uri": "https://localhost:8080/"
        },
        "id": "NUya6cL_kCjX",
        "outputId": "e733fb97-7cda-4c45-cb45-fa258d9ca3d7"
      },
      "source": [
        "ghd = GenerateData()\n",
        "ghd.height()\n",
        "ghd.foods()\n",
        "ghd.age()\n",
        "ghd.origin()\n",
        "ghd.geolocation()\n",
        "ghd.gender()"
      ],
      "execution_count": 4,
      "outputs": [
        {
          "output_type": "execute_result",
          "data": {
            "text/plain": [
              "True"
            ]
          },
          "metadata": {
            "tags": []
          },
          "execution_count": 4
        }
      ]
    },
    {
      "cell_type": "code",
      "metadata": {
        "colab": {
          "base_uri": "https://localhost:8080/"
        },
        "id": "DtnDnvpYmdfH",
        "outputId": "f989c20b-3dc0-4865-f111-6c330957f2dd"
      },
      "source": [
        "age = pd.read_csv(\"age.csv\")\n",
        "foods = pd.read_csv(\"foods.csv\")\n",
        "gender = pd.read_csv(\"gender.csv\")\n",
        "geolocs = pd.read_csv(\"geolocation.csv\")\n",
        "height = pd.read_csv(\"height.csv\")\n",
        "origins = pd.read_csv(\"origins.csv\")\n",
        "\n",
        "#df = pd.DataFrame(a)\n",
        "dfage = pd.DataFrame(age)\n",
        "dfgender = pd.DataFrame(gender)\n",
        "dfgeolocs = pd.DataFrame(geolocs)\n",
        "dforigins = pd.DataFrame(origins)\n",
        "dffoods = pd.DataFrame(foods)\n",
        "dfheight = pd.DataFrame(height)\n",
        "\n",
        "concat = pd.concat([dfage, dfgender,dforigins, dfgeolocs,dffoods, dfheight], axis=1).reindex(dfage.index)\n",
        "concat.to_csv(\"train.csv\", index=False)\n",
        "print(True)\n"
      ],
      "execution_count": null,
      "outputs": [
        {
          "output_type": "stream",
          "text": [
            "True\n"
          ],
          "name": "stdout"
        }
      ]
    },
    {
      "cell_type": "code",
      "metadata": {
        "id": "4sPbpoFqHGTc"
      },
      "source": [
        "class GenerateTestData:\n",
        "    def age(self):\n",
        "        high = 23\n",
        "        low = 15\n",
        "        df = pd.DataFrame(np.random.randint(low, high, size=(100 , 1)), columns=[\"Age\"])\n",
        "        df.to_csv(\"age.csv\", index=False)\n",
        "        return True\n",
        "    def gender(self):\n",
        "        gender =[1, 0]\n",
        "        df = pd.DataFrame(np.random.choice(gender, size=100),columns=['Gender'])\n",
        "        df.to_csv(\"gender.csv\", index=False)\n",
        "        return True\n",
        "    def foods(self):\n",
        "        food_list ={\"Maize\":1, \"Meat\":2, \"Fish\":3, \"Potatoes\":4, \"Rice\":5}\n",
        "        df = pd.DataFrame(np.random.choice(list(food_list.values()), size=100),columns=['Food'])\n",
        "        df.to_csv(\"foods.csv\", index=False)\n",
        "        return True\n",
        "    def geolocation(self):\n",
        "        geo_list =[1, 0]\n",
        "        df = pd.DataFrame(np.random.choice(geo_list, size=100),columns=['Geolocation'])\n",
        "        df.to_csv(\"geolocation.csv\", index=False)\n",
        "        return True\n",
        "    \n",
        "    def origin(name: str):\n",
        "        origins = {\"Nilotes\":2, \"Bantus\":3, \"Cushites\":3}\n",
        "        df = pd.DataFrame(np.random.choice(list(origins.values()), size=100),columns=['Origin'])\n",
        "        df.to_csv(\"origins.csv\", index=False)\n",
        "        return True"
      ],
      "execution_count": 5,
      "outputs": []
    },
    {
      "cell_type": "code",
      "metadata": {
        "colab": {
          "base_uri": "https://localhost:8080/"
        },
        "id": "5WjvvCxmHmcC",
        "outputId": "a5977f47-4a03-44b8-9d2e-363754c1f24f"
      },
      "source": [
        "ghd = GenerateTestData()\n",
        "ghd.foods()\n",
        "ghd.age()\n",
        "ghd.origin()\n",
        "ghd.geolocation()\n",
        "ghd.gender()"
      ],
      "execution_count": 6,
      "outputs": [
        {
          "output_type": "execute_result",
          "data": {
            "text/plain": [
              "True"
            ]
          },
          "metadata": {
            "tags": []
          },
          "execution_count": 6
        }
      ]
    },
    {
      "cell_type": "code",
      "metadata": {
        "colab": {
          "base_uri": "https://localhost:8080/"
        },
        "id": "XP48WOPFIkgW",
        "outputId": "a41bb4b9-609d-41e3-d312-3b123c2aaafc"
      },
      "source": [
        "age = pd.read_csv(\"age.csv\")\n",
        "foods = pd.read_csv(\"foods.csv\")\n",
        "gender = pd.read_csv(\"gender.csv\")\n",
        "geolocs = pd.read_csv(\"geolocation.csv\")\n",
        "origins = pd.read_csv(\"origins.csv\")\n",
        "\n",
        "#df = pd.DataFrame(a)\n",
        "dfage = pd.DataFrame(age)\n",
        "dfgender = pd.DataFrame(gender)\n",
        "dfgeolocs = pd.DataFrame(geolocs)\n",
        "dforigins = pd.DataFrame(origins)\n",
        "dffoods = pd.DataFrame(foods)\n",
        "\n",
        "concat = pd.concat([dfage, dfgender,dforigins, dfgeolocs, dffoods], axis=1).reindex(dfage.index)\n",
        "concat.to_csv(\"test.csv\", index=False)\n",
        "print(True)"
      ],
      "execution_count": 7,
      "outputs": [
        {
          "output_type": "stream",
          "text": [
            "True\n"
          ],
          "name": "stdout"
        }
      ]
    },
    {
      "cell_type": "code",
      "metadata": {
        "colab": {
          "base_uri": "https://localhost:8080/",
          "height": 452
        },
        "id": "zOj6lVwinYDa",
        "outputId": "32e1147b-40cd-4914-cc7b-3735dab21a27"
      },
      "source": [
        "dd = pd.read_csv(\"train.csv\")\n",
        "print(dd.head())\n",
        "print(dd.describe())\n",
        "dd.plot()\n",
        "plt.show()\n",
        "\n",
        "ddt = pd.read_csv(\"test.csv\")\n",
        "print(ddt.head())\n",
        "print(ddt.describe())\n",
        "ddt.plot()\n",
        "plt.show()"
      ],
      "execution_count": 8,
      "outputs": [
        {
          "output_type": "error",
          "ename": "FileNotFoundError",
          "evalue": "ignored",
          "traceback": [
            "\u001b[0;31m---------------------------------------------------------------------------\u001b[0m",
            "\u001b[0;31mFileNotFoundError\u001b[0m                         Traceback (most recent call last)",
            "\u001b[0;32m<ipython-input-8-173c50b05214>\u001b[0m in \u001b[0;36m<module>\u001b[0;34m()\u001b[0m\n\u001b[0;32m----> 1\u001b[0;31m \u001b[0mdd\u001b[0m \u001b[0;34m=\u001b[0m \u001b[0mpd\u001b[0m\u001b[0;34m.\u001b[0m\u001b[0mread_csv\u001b[0m\u001b[0;34m(\u001b[0m\u001b[0;34m\"train.csv\"\u001b[0m\u001b[0;34m)\u001b[0m\u001b[0;34m\u001b[0m\u001b[0;34m\u001b[0m\u001b[0m\n\u001b[0m\u001b[1;32m      2\u001b[0m \u001b[0mprint\u001b[0m\u001b[0;34m(\u001b[0m\u001b[0mdd\u001b[0m\u001b[0;34m.\u001b[0m\u001b[0mhead\u001b[0m\u001b[0;34m(\u001b[0m\u001b[0;34m)\u001b[0m\u001b[0;34m)\u001b[0m\u001b[0;34m\u001b[0m\u001b[0;34m\u001b[0m\u001b[0m\n\u001b[1;32m      3\u001b[0m \u001b[0mprint\u001b[0m\u001b[0;34m(\u001b[0m\u001b[0mdd\u001b[0m\u001b[0;34m.\u001b[0m\u001b[0mdescribe\u001b[0m\u001b[0;34m(\u001b[0m\u001b[0;34m)\u001b[0m\u001b[0;34m)\u001b[0m\u001b[0;34m\u001b[0m\u001b[0;34m\u001b[0m\u001b[0m\n\u001b[1;32m      4\u001b[0m \u001b[0mdd\u001b[0m\u001b[0;34m.\u001b[0m\u001b[0mplot\u001b[0m\u001b[0;34m(\u001b[0m\u001b[0;34m)\u001b[0m\u001b[0;34m\u001b[0m\u001b[0;34m\u001b[0m\u001b[0m\n\u001b[1;32m      5\u001b[0m \u001b[0mplt\u001b[0m\u001b[0;34m.\u001b[0m\u001b[0mshow\u001b[0m\u001b[0;34m(\u001b[0m\u001b[0;34m)\u001b[0m\u001b[0;34m\u001b[0m\u001b[0;34m\u001b[0m\u001b[0m\n",
            "\u001b[0;32m/usr/local/lib/python3.7/dist-packages/pandas/io/parsers.py\u001b[0m in \u001b[0;36mread_csv\u001b[0;34m(filepath_or_buffer, sep, delimiter, header, names, index_col, usecols, squeeze, prefix, mangle_dupe_cols, dtype, engine, converters, true_values, false_values, skipinitialspace, skiprows, skipfooter, nrows, na_values, keep_default_na, na_filter, verbose, skip_blank_lines, parse_dates, infer_datetime_format, keep_date_col, date_parser, dayfirst, cache_dates, iterator, chunksize, compression, thousands, decimal, lineterminator, quotechar, quoting, doublequote, escapechar, comment, encoding, dialect, error_bad_lines, warn_bad_lines, delim_whitespace, low_memory, memory_map, float_precision)\u001b[0m\n\u001b[1;32m    686\u001b[0m     )\n\u001b[1;32m    687\u001b[0m \u001b[0;34m\u001b[0m\u001b[0m\n\u001b[0;32m--> 688\u001b[0;31m     \u001b[0;32mreturn\u001b[0m \u001b[0m_read\u001b[0m\u001b[0;34m(\u001b[0m\u001b[0mfilepath_or_buffer\u001b[0m\u001b[0;34m,\u001b[0m \u001b[0mkwds\u001b[0m\u001b[0;34m)\u001b[0m\u001b[0;34m\u001b[0m\u001b[0;34m\u001b[0m\u001b[0m\n\u001b[0m\u001b[1;32m    689\u001b[0m \u001b[0;34m\u001b[0m\u001b[0m\n\u001b[1;32m    690\u001b[0m \u001b[0;34m\u001b[0m\u001b[0m\n",
            "\u001b[0;32m/usr/local/lib/python3.7/dist-packages/pandas/io/parsers.py\u001b[0m in \u001b[0;36m_read\u001b[0;34m(filepath_or_buffer, kwds)\u001b[0m\n\u001b[1;32m    452\u001b[0m \u001b[0;34m\u001b[0m\u001b[0m\n\u001b[1;32m    453\u001b[0m     \u001b[0;31m# Create the parser.\u001b[0m\u001b[0;34m\u001b[0m\u001b[0;34m\u001b[0m\u001b[0;34m\u001b[0m\u001b[0m\n\u001b[0;32m--> 454\u001b[0;31m     \u001b[0mparser\u001b[0m \u001b[0;34m=\u001b[0m \u001b[0mTextFileReader\u001b[0m\u001b[0;34m(\u001b[0m\u001b[0mfp_or_buf\u001b[0m\u001b[0;34m,\u001b[0m \u001b[0;34m**\u001b[0m\u001b[0mkwds\u001b[0m\u001b[0;34m)\u001b[0m\u001b[0;34m\u001b[0m\u001b[0;34m\u001b[0m\u001b[0m\n\u001b[0m\u001b[1;32m    455\u001b[0m \u001b[0;34m\u001b[0m\u001b[0m\n\u001b[1;32m    456\u001b[0m     \u001b[0;32mif\u001b[0m \u001b[0mchunksize\u001b[0m \u001b[0;32mor\u001b[0m \u001b[0miterator\u001b[0m\u001b[0;34m:\u001b[0m\u001b[0;34m\u001b[0m\u001b[0;34m\u001b[0m\u001b[0m\n",
            "\u001b[0;32m/usr/local/lib/python3.7/dist-packages/pandas/io/parsers.py\u001b[0m in \u001b[0;36m__init__\u001b[0;34m(self, f, engine, **kwds)\u001b[0m\n\u001b[1;32m    946\u001b[0m             \u001b[0mself\u001b[0m\u001b[0;34m.\u001b[0m\u001b[0moptions\u001b[0m\u001b[0;34m[\u001b[0m\u001b[0;34m\"has_index_names\"\u001b[0m\u001b[0;34m]\u001b[0m \u001b[0;34m=\u001b[0m \u001b[0mkwds\u001b[0m\u001b[0;34m[\u001b[0m\u001b[0;34m\"has_index_names\"\u001b[0m\u001b[0;34m]\u001b[0m\u001b[0;34m\u001b[0m\u001b[0;34m\u001b[0m\u001b[0m\n\u001b[1;32m    947\u001b[0m \u001b[0;34m\u001b[0m\u001b[0m\n\u001b[0;32m--> 948\u001b[0;31m         \u001b[0mself\u001b[0m\u001b[0;34m.\u001b[0m\u001b[0m_make_engine\u001b[0m\u001b[0;34m(\u001b[0m\u001b[0mself\u001b[0m\u001b[0;34m.\u001b[0m\u001b[0mengine\u001b[0m\u001b[0;34m)\u001b[0m\u001b[0;34m\u001b[0m\u001b[0;34m\u001b[0m\u001b[0m\n\u001b[0m\u001b[1;32m    949\u001b[0m \u001b[0;34m\u001b[0m\u001b[0m\n\u001b[1;32m    950\u001b[0m     \u001b[0;32mdef\u001b[0m \u001b[0mclose\u001b[0m\u001b[0;34m(\u001b[0m\u001b[0mself\u001b[0m\u001b[0;34m)\u001b[0m\u001b[0;34m:\u001b[0m\u001b[0;34m\u001b[0m\u001b[0;34m\u001b[0m\u001b[0m\n",
            "\u001b[0;32m/usr/local/lib/python3.7/dist-packages/pandas/io/parsers.py\u001b[0m in \u001b[0;36m_make_engine\u001b[0;34m(self, engine)\u001b[0m\n\u001b[1;32m   1178\u001b[0m     \u001b[0;32mdef\u001b[0m \u001b[0m_make_engine\u001b[0m\u001b[0;34m(\u001b[0m\u001b[0mself\u001b[0m\u001b[0;34m,\u001b[0m \u001b[0mengine\u001b[0m\u001b[0;34m=\u001b[0m\u001b[0;34m\"c\"\u001b[0m\u001b[0;34m)\u001b[0m\u001b[0;34m:\u001b[0m\u001b[0;34m\u001b[0m\u001b[0;34m\u001b[0m\u001b[0m\n\u001b[1;32m   1179\u001b[0m         \u001b[0;32mif\u001b[0m \u001b[0mengine\u001b[0m \u001b[0;34m==\u001b[0m \u001b[0;34m\"c\"\u001b[0m\u001b[0;34m:\u001b[0m\u001b[0;34m\u001b[0m\u001b[0;34m\u001b[0m\u001b[0m\n\u001b[0;32m-> 1180\u001b[0;31m             \u001b[0mself\u001b[0m\u001b[0;34m.\u001b[0m\u001b[0m_engine\u001b[0m \u001b[0;34m=\u001b[0m \u001b[0mCParserWrapper\u001b[0m\u001b[0;34m(\u001b[0m\u001b[0mself\u001b[0m\u001b[0;34m.\u001b[0m\u001b[0mf\u001b[0m\u001b[0;34m,\u001b[0m \u001b[0;34m**\u001b[0m\u001b[0mself\u001b[0m\u001b[0;34m.\u001b[0m\u001b[0moptions\u001b[0m\u001b[0;34m)\u001b[0m\u001b[0;34m\u001b[0m\u001b[0;34m\u001b[0m\u001b[0m\n\u001b[0m\u001b[1;32m   1181\u001b[0m         \u001b[0;32melse\u001b[0m\u001b[0;34m:\u001b[0m\u001b[0;34m\u001b[0m\u001b[0;34m\u001b[0m\u001b[0m\n\u001b[1;32m   1182\u001b[0m             \u001b[0;32mif\u001b[0m \u001b[0mengine\u001b[0m \u001b[0;34m==\u001b[0m \u001b[0;34m\"python\"\u001b[0m\u001b[0;34m:\u001b[0m\u001b[0;34m\u001b[0m\u001b[0;34m\u001b[0m\u001b[0m\n",
            "\u001b[0;32m/usr/local/lib/python3.7/dist-packages/pandas/io/parsers.py\u001b[0m in \u001b[0;36m__init__\u001b[0;34m(self, src, **kwds)\u001b[0m\n\u001b[1;32m   2008\u001b[0m         \u001b[0mkwds\u001b[0m\u001b[0;34m[\u001b[0m\u001b[0;34m\"usecols\"\u001b[0m\u001b[0;34m]\u001b[0m \u001b[0;34m=\u001b[0m \u001b[0mself\u001b[0m\u001b[0;34m.\u001b[0m\u001b[0musecols\u001b[0m\u001b[0;34m\u001b[0m\u001b[0;34m\u001b[0m\u001b[0m\n\u001b[1;32m   2009\u001b[0m \u001b[0;34m\u001b[0m\u001b[0m\n\u001b[0;32m-> 2010\u001b[0;31m         \u001b[0mself\u001b[0m\u001b[0;34m.\u001b[0m\u001b[0m_reader\u001b[0m \u001b[0;34m=\u001b[0m \u001b[0mparsers\u001b[0m\u001b[0;34m.\u001b[0m\u001b[0mTextReader\u001b[0m\u001b[0;34m(\u001b[0m\u001b[0msrc\u001b[0m\u001b[0;34m,\u001b[0m \u001b[0;34m**\u001b[0m\u001b[0mkwds\u001b[0m\u001b[0;34m)\u001b[0m\u001b[0;34m\u001b[0m\u001b[0;34m\u001b[0m\u001b[0m\n\u001b[0m\u001b[1;32m   2011\u001b[0m         \u001b[0mself\u001b[0m\u001b[0;34m.\u001b[0m\u001b[0munnamed_cols\u001b[0m \u001b[0;34m=\u001b[0m \u001b[0mself\u001b[0m\u001b[0;34m.\u001b[0m\u001b[0m_reader\u001b[0m\u001b[0;34m.\u001b[0m\u001b[0munnamed_cols\u001b[0m\u001b[0;34m\u001b[0m\u001b[0;34m\u001b[0m\u001b[0m\n\u001b[1;32m   2012\u001b[0m \u001b[0;34m\u001b[0m\u001b[0m\n",
            "\u001b[0;32mpandas/_libs/parsers.pyx\u001b[0m in \u001b[0;36mpandas._libs.parsers.TextReader.__cinit__\u001b[0;34m()\u001b[0m\n",
            "\u001b[0;32mpandas/_libs/parsers.pyx\u001b[0m in \u001b[0;36mpandas._libs.parsers.TextReader._setup_parser_source\u001b[0;34m()\u001b[0m\n",
            "\u001b[0;31mFileNotFoundError\u001b[0m: [Errno 2] No such file or directory: 'train.csv'"
          ]
        }
      ]
    },
    {
      "cell_type": "code",
      "metadata": {
        "id": "M6jeryrfKUwu"
      },
      "source": [
        "class Trainer:\n",
        "\tdef __init__(self, train, test, output):\n",
        "\t\tself.train = train\n",
        "\t\tself.test = test\n",
        "\t\tself.output = output\n",
        "\n",
        "\tdef trainer(self):\n",
        "\t\tdata = pd.read_csv(self.train)\n",
        "\t\tarray = data.values\n",
        "\n",
        "\t\tdf = pd.DataFrame(array)\n",
        "\t\tmaindf = df[[0,1,2,3,4]]\n",
        "\t\tmainarray = maindf.values\n",
        "\t\ttempdf = df[5]\n",
        "\n",
        "\t\ttrain_y = tempdf.values\n",
        "\t\tfor i in range(len(train_y)):\n",
        "\t\t\ttrain_y[i] = str(train_y[i])\n",
        "\t\tself.learn = linear_model.LogisticRegression(multi_class='multinomial', solver='newton-cg',max_iter=1000)\n",
        "\t\tself.learn.fit(mainarray, train_y)\n",
        "\t\tprint(self.learn.fit(mainarray, train_y))\n",
        "\t\tprint(\"Train \\n \\t200 OK\")\n",
        "\n",
        "\tdef tester(self):\n",
        "\t\ttestdata = pd.read_csv(self.test)\n",
        "\t\ttester_array = testdata.values\n",
        "\n",
        "\t\tdft = pd.DataFrame(tester_array)\n",
        "\t\ttestdf = dft[[0,1,2,3,4]]\n",
        "\t\tmaintestarray = testdf.values\n",
        "\t\tself.x_predict = self.learn.predict(maintestarray)\n",
        "\t\tfor i in range(len(self.x_predict)):\n",
        "\t\t\tself.x_predict[i] = str(self.x_predict[i])\n",
        "\t\tprint(\"Test \\n \\t200 OK\")\n",
        "\n",
        "\tdef back_to_df(self):\n",
        "\t\tself.bdf = pd.DataFrame(self.x_predict, columns=['Predicted Height'])\n",
        "\t\tself.bdf.index = self.bdf.index\n",
        "\t\tself.bdf.to_csv(self.output, index=False)\n",
        "\n",
        "\tdef combine_data(self):\n",
        "\t\tmain = pd.read_csv(self.test)\n",
        "\t\tdataframe = pd.DataFrame(main)\n",
        "\t\tdataframe2 = self.bdf\n",
        "\t\tconcat = pd.concat([dataframe,dataframe2], axis=1).reindex(dataframe.index)\n",
        "\t\tconcat.to_csv(self.output, index=False)\n",
        "\t\tprint(\" \\033[92m Done successfully\")"
      ],
      "execution_count": null,
      "outputs": []
    },
    {
      "cell_type": "code",
      "metadata": {
        "colab": {
          "base_uri": "https://localhost:8080/",
          "height": 237
        },
        "id": "rRtUU2n0LCKo",
        "outputId": "c3671b03-afa1-4aea-cc16-6c62bcd9d6ba"
      },
      "source": [
        "data = \"train.csv\"\n",
        "test = \"test.csv\"\n",
        "output = \"out.csv\"\n",
        "train = Trainer(data, test, output)\n",
        "train.trainer()\n",
        "train.tester()\n",
        "train.back_to_df()\n",
        "train.combine_data()\n",
        "\n"
      ],
      "execution_count": 9,
      "outputs": [
        {
          "output_type": "error",
          "ename": "NameError",
          "evalue": "ignored",
          "traceback": [
            "\u001b[0;31m---------------------------------------------------------------------------\u001b[0m",
            "\u001b[0;31mNameError\u001b[0m                                 Traceback (most recent call last)",
            "\u001b[0;32m<ipython-input-9-a42861404af7>\u001b[0m in \u001b[0;36m<module>\u001b[0;34m()\u001b[0m\n\u001b[1;32m      2\u001b[0m \u001b[0mtest\u001b[0m \u001b[0;34m=\u001b[0m \u001b[0;34m\"test.csv\"\u001b[0m\u001b[0;34m\u001b[0m\u001b[0;34m\u001b[0m\u001b[0m\n\u001b[1;32m      3\u001b[0m \u001b[0moutput\u001b[0m \u001b[0;34m=\u001b[0m \u001b[0;34m\"out.csv\"\u001b[0m\u001b[0;34m\u001b[0m\u001b[0;34m\u001b[0m\u001b[0m\n\u001b[0;32m----> 4\u001b[0;31m \u001b[0mtrain\u001b[0m \u001b[0;34m=\u001b[0m \u001b[0mTrainer\u001b[0m\u001b[0;34m(\u001b[0m\u001b[0mdata\u001b[0m\u001b[0;34m,\u001b[0m \u001b[0mtest\u001b[0m\u001b[0;34m,\u001b[0m \u001b[0moutput\u001b[0m\u001b[0;34m)\u001b[0m\u001b[0;34m\u001b[0m\u001b[0;34m\u001b[0m\u001b[0m\n\u001b[0m\u001b[1;32m      5\u001b[0m \u001b[0mtrain\u001b[0m\u001b[0;34m.\u001b[0m\u001b[0mtrainer\u001b[0m\u001b[0;34m(\u001b[0m\u001b[0;34m)\u001b[0m\u001b[0;34m\u001b[0m\u001b[0;34m\u001b[0m\u001b[0m\n\u001b[1;32m      6\u001b[0m \u001b[0mtrain\u001b[0m\u001b[0;34m.\u001b[0m\u001b[0mtester\u001b[0m\u001b[0;34m(\u001b[0m\u001b[0;34m)\u001b[0m\u001b[0;34m\u001b[0m\u001b[0;34m\u001b[0m\u001b[0m\n",
            "\u001b[0;31mNameError\u001b[0m: name 'Trainer' is not defined"
          ]
        }
      ]
    },
    {
      "cell_type": "code",
      "metadata": {
        "colab": {
          "base_uri": "https://localhost:8080/",
          "height": 265
        },
        "id": "GNbuLhSFL-5k",
        "outputId": "d6a499a8-81ab-4ea1-e075-839da84dda9e"
      },
      "source": [
        "pdf = pd.read_csv(\"/content/out.csv\")\n",
        "pdf.plot()\n",
        "plt.show()"
      ],
      "execution_count": null,
      "outputs": [
        {
          "output_type": "display_data",
          "data": {
            "image/png": "[encoded data removed]",
            "text/plain": [
              "<Figure size 432x288 with 1 Axes>"
            ]
          },
          "metadata": {
            "tags": []
          }
        }
      ]
    }
  ]
}